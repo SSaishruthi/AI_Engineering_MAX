{
  "nbformat": 4,
  "nbformat_minor": 0,
  "metadata": {
    "kernelspec": {
      "display_name": "Python 3",
      "language": "python",
      "name": "python3"
    },
    "language_info": {
      "codemirror_mode": {
        "name": "ipython",
        "version": 3
      },
      "file_extension": ".py",
      "mimetype": "text/x-python",
      "name": "python",
      "nbconvert_exporter": "python",
      "pygments_lexer": "ipython3",
      "version": "3.7.2"
    },
    "colab": {
      "name": "Bias_Data.ipynb",
      "provenance": []
    }
  },
  "cells": [
    {
      "cell_type": "markdown",
      "metadata": {
        "id": "w2BFve0LGZTt"
      },
      "source": [
        "# Telecom Data - Predict Customer Churn\n",
        "\n",
        "### How many customers stop using the product?\n",
        "\n",
        "Dataset Link - https://www.kaggle.com/radmirzosimov/telecom-users-dataset"
      ]
    },
    {
      "cell_type": "markdown",
      "metadata": {
        "id": "JL1B0Ae2GZTv"
      },
      "source": [
        "# Process\n",
        "\n",
        "![img](https://github.com/SSaishruthi/Guvi_AI_For_India/blob/main/steps.png?raw=1)"
      ]
    },
    {
      "cell_type": "code",
      "metadata": {
        "id": "h6CobxOfGZTw"
      },
      "source": [
        "# Load all necessary packages\n",
        "import pandas as pd\n",
        "import numpy as np\n",
        "from sklearn.model_selection import train_test_split\n",
        "import aif360\n",
        "from aif360.metrics import BinaryLabelDatasetMetric\n",
        "from aif360.algorithms.preprocessing import Reweighing\n",
        "from sklearn.ensemble import AdaBoostClassifier\n",
        "from sklearn import metrics\n",
        "import warnings\n",
        "warnings.filterwarnings(\"ignore\")"
      ],
      "execution_count": null,
      "outputs": []
    },
    {
      "cell_type": "markdown",
      "metadata": {
        "id": "7NtNZ8mkGZTx"
      },
      "source": [
        "# Data Extraction"
      ]
    },
    {
      "cell_type": "code",
      "metadata": {
        "id": "Vf-7lUUwGZTx"
      },
      "source": [
        "# Read the Data\n",
        "df = pd.read_csv('telecom_users.csv')"
      ],
      "execution_count": null,
      "outputs": []
    },
    {
      "cell_type": "code",
      "metadata": {
        "id": "Jc3n56-1GZTx",
        "outputId": "cf4929a4-2cab-435d-c5fb-daaa06232d08"
      },
      "source": [
        "# Display first few rows of the dataset\n",
        "df.head()"
      ],
      "execution_count": null,
      "outputs": [
        {
          "output_type": "execute_result",
          "data": {
            "text/html": [
              "<div>\n",
              "<style scoped>\n",
              "    .dataframe tbody tr th:only-of-type {\n",
              "        vertical-align: middle;\n",
              "    }\n",
              "\n",
              "    .dataframe tbody tr th {\n",
              "        vertical-align: top;\n",
              "    }\n",
              "\n",
              "    .dataframe thead th {\n",
              "        text-align: right;\n",
              "    }\n",
              "</style>\n",
              "<table border=\"1\" class=\"dataframe\">\n",
              "  <thead>\n",
              "    <tr style=\"text-align: right;\">\n",
              "      <th></th>\n",
              "      <th>Unnamed: 0</th>\n",
              "      <th>customerID</th>\n",
              "      <th>gender</th>\n",
              "      <th>SeniorCitizen</th>\n",
              "      <th>Partner</th>\n",
              "      <th>Dependents</th>\n",
              "      <th>tenure</th>\n",
              "      <th>PhoneService</th>\n",
              "      <th>MultipleLines</th>\n",
              "      <th>InternetService</th>\n",
              "      <th>...</th>\n",
              "      <th>DeviceProtection</th>\n",
              "      <th>TechSupport</th>\n",
              "      <th>StreamingTV</th>\n",
              "      <th>StreamingMovies</th>\n",
              "      <th>Contract</th>\n",
              "      <th>PaperlessBilling</th>\n",
              "      <th>PaymentMethod</th>\n",
              "      <th>MonthlyCharges</th>\n",
              "      <th>TotalCharges</th>\n",
              "      <th>Churn</th>\n",
              "    </tr>\n",
              "  </thead>\n",
              "  <tbody>\n",
              "    <tr>\n",
              "      <th>0</th>\n",
              "      <td>1869</td>\n",
              "      <td>7010-BRBUU</td>\n",
              "      <td>Male</td>\n",
              "      <td>0</td>\n",
              "      <td>Yes</td>\n",
              "      <td>Yes</td>\n",
              "      <td>72</td>\n",
              "      <td>Yes</td>\n",
              "      <td>Yes</td>\n",
              "      <td>No</td>\n",
              "      <td>...</td>\n",
              "      <td>No internet service</td>\n",
              "      <td>No internet service</td>\n",
              "      <td>No internet service</td>\n",
              "      <td>No internet service</td>\n",
              "      <td>Two year</td>\n",
              "      <td>No</td>\n",
              "      <td>Credit card (automatic)</td>\n",
              "      <td>24.10</td>\n",
              "      <td>1734.65</td>\n",
              "      <td>No</td>\n",
              "    </tr>\n",
              "    <tr>\n",
              "      <th>1</th>\n",
              "      <td>4528</td>\n",
              "      <td>9688-YGXVR</td>\n",
              "      <td>Female</td>\n",
              "      <td>0</td>\n",
              "      <td>No</td>\n",
              "      <td>No</td>\n",
              "      <td>44</td>\n",
              "      <td>Yes</td>\n",
              "      <td>No</td>\n",
              "      <td>Fiber optic</td>\n",
              "      <td>...</td>\n",
              "      <td>Yes</td>\n",
              "      <td>No</td>\n",
              "      <td>Yes</td>\n",
              "      <td>No</td>\n",
              "      <td>Month-to-month</td>\n",
              "      <td>Yes</td>\n",
              "      <td>Credit card (automatic)</td>\n",
              "      <td>88.15</td>\n",
              "      <td>3973.2</td>\n",
              "      <td>No</td>\n",
              "    </tr>\n",
              "    <tr>\n",
              "      <th>2</th>\n",
              "      <td>6344</td>\n",
              "      <td>9286-DOJGF</td>\n",
              "      <td>Female</td>\n",
              "      <td>1</td>\n",
              "      <td>Yes</td>\n",
              "      <td>No</td>\n",
              "      <td>38</td>\n",
              "      <td>Yes</td>\n",
              "      <td>Yes</td>\n",
              "      <td>Fiber optic</td>\n",
              "      <td>...</td>\n",
              "      <td>No</td>\n",
              "      <td>No</td>\n",
              "      <td>No</td>\n",
              "      <td>No</td>\n",
              "      <td>Month-to-month</td>\n",
              "      <td>Yes</td>\n",
              "      <td>Bank transfer (automatic)</td>\n",
              "      <td>74.95</td>\n",
              "      <td>2869.85</td>\n",
              "      <td>Yes</td>\n",
              "    </tr>\n",
              "    <tr>\n",
              "      <th>3</th>\n",
              "      <td>6739</td>\n",
              "      <td>6994-KERXL</td>\n",
              "      <td>Male</td>\n",
              "      <td>0</td>\n",
              "      <td>No</td>\n",
              "      <td>No</td>\n",
              "      <td>4</td>\n",
              "      <td>Yes</td>\n",
              "      <td>No</td>\n",
              "      <td>DSL</td>\n",
              "      <td>...</td>\n",
              "      <td>No</td>\n",
              "      <td>No</td>\n",
              "      <td>No</td>\n",
              "      <td>Yes</td>\n",
              "      <td>Month-to-month</td>\n",
              "      <td>Yes</td>\n",
              "      <td>Electronic check</td>\n",
              "      <td>55.90</td>\n",
              "      <td>238.5</td>\n",
              "      <td>No</td>\n",
              "    </tr>\n",
              "    <tr>\n",
              "      <th>4</th>\n",
              "      <td>432</td>\n",
              "      <td>2181-UAESM</td>\n",
              "      <td>Male</td>\n",
              "      <td>0</td>\n",
              "      <td>No</td>\n",
              "      <td>No</td>\n",
              "      <td>2</td>\n",
              "      <td>Yes</td>\n",
              "      <td>No</td>\n",
              "      <td>DSL</td>\n",
              "      <td>...</td>\n",
              "      <td>Yes</td>\n",
              "      <td>No</td>\n",
              "      <td>No</td>\n",
              "      <td>No</td>\n",
              "      <td>Month-to-month</td>\n",
              "      <td>No</td>\n",
              "      <td>Electronic check</td>\n",
              "      <td>53.45</td>\n",
              "      <td>119.5</td>\n",
              "      <td>No</td>\n",
              "    </tr>\n",
              "  </tbody>\n",
              "</table>\n",
              "<p>5 rows × 22 columns</p>\n",
              "</div>"
            ],
            "text/plain": [
              "   Unnamed: 0  customerID  gender  SeniorCitizen Partner Dependents  tenure  \\\n",
              "0        1869  7010-BRBUU    Male              0     Yes        Yes      72   \n",
              "1        4528  9688-YGXVR  Female              0      No         No      44   \n",
              "2        6344  9286-DOJGF  Female              1     Yes         No      38   \n",
              "3        6739  6994-KERXL    Male              0      No         No       4   \n",
              "4         432  2181-UAESM    Male              0      No         No       2   \n",
              "\n",
              "  PhoneService MultipleLines InternetService  ...     DeviceProtection  \\\n",
              "0          Yes           Yes              No  ...  No internet service   \n",
              "1          Yes            No     Fiber optic  ...                  Yes   \n",
              "2          Yes           Yes     Fiber optic  ...                   No   \n",
              "3          Yes            No             DSL  ...                   No   \n",
              "4          Yes            No             DSL  ...                  Yes   \n",
              "\n",
              "           TechSupport          StreamingTV      StreamingMovies  \\\n",
              "0  No internet service  No internet service  No internet service   \n",
              "1                   No                  Yes                   No   \n",
              "2                   No                   No                   No   \n",
              "3                   No                   No                  Yes   \n",
              "4                   No                   No                   No   \n",
              "\n",
              "         Contract PaperlessBilling              PaymentMethod MonthlyCharges  \\\n",
              "0        Two year               No    Credit card (automatic)          24.10   \n",
              "1  Month-to-month              Yes    Credit card (automatic)          88.15   \n",
              "2  Month-to-month              Yes  Bank transfer (automatic)          74.95   \n",
              "3  Month-to-month              Yes           Electronic check          55.90   \n",
              "4  Month-to-month               No           Electronic check          53.45   \n",
              "\n",
              "  TotalCharges  Churn  \n",
              "0      1734.65     No  \n",
              "1       3973.2     No  \n",
              "2      2869.85    Yes  \n",
              "3        238.5     No  \n",
              "4        119.5     No  \n",
              "\n",
              "[5 rows x 22 columns]"
            ]
          },
          "metadata": {
            "tags": []
          },
          "execution_count": 3
        }
      ]
    },
    {
      "cell_type": "code",
      "metadata": {
        "id": "rSvXl_VRGZTz",
        "outputId": "04c86bc4-8f0b-4103-e1c6-cebaae92a88f"
      },
      "source": [
        "# Let's display columns \n",
        "df.columns"
      ],
      "execution_count": null,
      "outputs": [
        {
          "output_type": "execute_result",
          "data": {
            "text/plain": [
              "Index(['Unnamed: 0', 'customerID', 'gender', 'SeniorCitizen', 'Partner',\n",
              "       'Dependents', 'tenure', 'PhoneService', 'MultipleLines',\n",
              "       'InternetService', 'OnlineSecurity', 'OnlineBackup', 'DeviceProtection',\n",
              "       'TechSupport', 'StreamingTV', 'StreamingMovies', 'Contract',\n",
              "       'PaperlessBilling', 'PaymentMethod', 'MonthlyCharges', 'TotalCharges',\n",
              "       'Churn'],\n",
              "      dtype='object')"
            ]
          },
          "metadata": {
            "tags": []
          },
          "execution_count": 4
        }
      ]
    },
    {
      "cell_type": "code",
      "metadata": {
        "id": "gxWBHuqDGZTz",
        "outputId": "2bccdadd-91e6-4b48-9e2d-83e4c0858449"
      },
      "source": [
        "df.info()"
      ],
      "execution_count": null,
      "outputs": [
        {
          "output_type": "stream",
          "text": [
            "<class 'pandas.core.frame.DataFrame'>\n",
            "RangeIndex: 5986 entries, 0 to 5985\n",
            "Data columns (total 22 columns):\n",
            " #   Column            Non-Null Count  Dtype  \n",
            "---  ------            --------------  -----  \n",
            " 0   Unnamed: 0        5986 non-null   int64  \n",
            " 1   customerID        5986 non-null   object \n",
            " 2   gender            5986 non-null   object \n",
            " 3   SeniorCitizen     5986 non-null   int64  \n",
            " 4   Partner           5986 non-null   object \n",
            " 5   Dependents        5986 non-null   object \n",
            " 6   tenure            5986 non-null   int64  \n",
            " 7   PhoneService      5986 non-null   object \n",
            " 8   MultipleLines     5986 non-null   object \n",
            " 9   InternetService   5986 non-null   object \n",
            " 10  OnlineSecurity    5986 non-null   object \n",
            " 11  OnlineBackup      5986 non-null   object \n",
            " 12  DeviceProtection  5986 non-null   object \n",
            " 13  TechSupport       5986 non-null   object \n",
            " 14  StreamingTV       5986 non-null   object \n",
            " 15  StreamingMovies   5986 non-null   object \n",
            " 16  Contract          5986 non-null   object \n",
            " 17  PaperlessBilling  5986 non-null   object \n",
            " 18  PaymentMethod     5986 non-null   object \n",
            " 19  MonthlyCharges    5986 non-null   float64\n",
            " 20  TotalCharges      5986 non-null   object \n",
            " 21  Churn             5986 non-null   object \n",
            "dtypes: float64(1), int64(3), object(18)\n",
            "memory usage: 1.0+ MB\n"
          ],
          "name": "stdout"
        }
      ]
    },
    {
      "cell_type": "markdown",
      "metadata": {
        "id": "o0O5oE4EGZTz"
      },
      "source": [
        "# Data Pre-processing"
      ]
    },
    {
      "cell_type": "markdown",
      "metadata": {
        "id": "6Bg_pRy7GZT0"
      },
      "source": [
        "#### List of columns we will be using to experiment with the fairness toolkit\n",
        "\n",
        "- gender - Categorical\n",
        "- tenure - Continous\n",
        "- PhoneService - Categorical\n",
        "- InternetService - Categorical\n",
        "- DeviceProtection - Categorical\n",
        "- TechSupport - Categorical\n",
        "- MonthlyCharges - Continous\n",
        "- TotalCharges - Continous\n",
        "- Churn - Categorical"
      ]
    },
    {
      "cell_type": "code",
      "metadata": {
        "id": "_Dvs05MvGZT0"
      },
      "source": [
        "# Get list of categorical variables\n",
        "cat = ['PhoneService', 'InternetService', 'DeviceProtection', 'TechSupport']\n",
        "\n",
        "# Get list of continous variables\n",
        "continous = ['tenure', 'MonthlyCharges', 'TotalCharges']\n",
        "\n",
        "# Variable that we suspect bias \n",
        "expected_bias = ['gender']\n",
        "\n",
        "# Target variable\n",
        "target = ['Churn']"
      ],
      "execution_count": null,
      "outputs": []
    },
    {
      "cell_type": "code",
      "metadata": {
        "id": "BvavW70MGZT0"
      },
      "source": [
        "# Use selected column \n",
        "selected_data = df[['gender', 'tenure', 'PhoneService', 'InternetService', 'DeviceProtection', \n",
        "                   'TechSupport', 'MonthlyCharges', 'TotalCharges', 'Churn']]"
      ],
      "execution_count": null,
      "outputs": []
    },
    {
      "cell_type": "code",
      "metadata": {
        "id": "IHjtqJm8GZT1",
        "outputId": "b9b543d7-35bc-42fd-d9b4-f280c298c8f1"
      },
      "source": [
        "#Display selected data\n",
        "selected_data.head()"
      ],
      "execution_count": null,
      "outputs": [
        {
          "output_type": "execute_result",
          "data": {
            "text/html": [
              "<div>\n",
              "<style scoped>\n",
              "    .dataframe tbody tr th:only-of-type {\n",
              "        vertical-align: middle;\n",
              "    }\n",
              "\n",
              "    .dataframe tbody tr th {\n",
              "        vertical-align: top;\n",
              "    }\n",
              "\n",
              "    .dataframe thead th {\n",
              "        text-align: right;\n",
              "    }\n",
              "</style>\n",
              "<table border=\"1\" class=\"dataframe\">\n",
              "  <thead>\n",
              "    <tr style=\"text-align: right;\">\n",
              "      <th></th>\n",
              "      <th>gender</th>\n",
              "      <th>tenure</th>\n",
              "      <th>PhoneService</th>\n",
              "      <th>InternetService</th>\n",
              "      <th>DeviceProtection</th>\n",
              "      <th>TechSupport</th>\n",
              "      <th>MonthlyCharges</th>\n",
              "      <th>TotalCharges</th>\n",
              "      <th>Churn</th>\n",
              "    </tr>\n",
              "  </thead>\n",
              "  <tbody>\n",
              "    <tr>\n",
              "      <th>0</th>\n",
              "      <td>Male</td>\n",
              "      <td>72</td>\n",
              "      <td>Yes</td>\n",
              "      <td>No</td>\n",
              "      <td>No internet service</td>\n",
              "      <td>No internet service</td>\n",
              "      <td>24.10</td>\n",
              "      <td>1734.65</td>\n",
              "      <td>No</td>\n",
              "    </tr>\n",
              "    <tr>\n",
              "      <th>1</th>\n",
              "      <td>Female</td>\n",
              "      <td>44</td>\n",
              "      <td>Yes</td>\n",
              "      <td>Fiber optic</td>\n",
              "      <td>Yes</td>\n",
              "      <td>No</td>\n",
              "      <td>88.15</td>\n",
              "      <td>3973.2</td>\n",
              "      <td>No</td>\n",
              "    </tr>\n",
              "    <tr>\n",
              "      <th>2</th>\n",
              "      <td>Female</td>\n",
              "      <td>38</td>\n",
              "      <td>Yes</td>\n",
              "      <td>Fiber optic</td>\n",
              "      <td>No</td>\n",
              "      <td>No</td>\n",
              "      <td>74.95</td>\n",
              "      <td>2869.85</td>\n",
              "      <td>Yes</td>\n",
              "    </tr>\n",
              "    <tr>\n",
              "      <th>3</th>\n",
              "      <td>Male</td>\n",
              "      <td>4</td>\n",
              "      <td>Yes</td>\n",
              "      <td>DSL</td>\n",
              "      <td>No</td>\n",
              "      <td>No</td>\n",
              "      <td>55.90</td>\n",
              "      <td>238.5</td>\n",
              "      <td>No</td>\n",
              "    </tr>\n",
              "    <tr>\n",
              "      <th>4</th>\n",
              "      <td>Male</td>\n",
              "      <td>2</td>\n",
              "      <td>Yes</td>\n",
              "      <td>DSL</td>\n",
              "      <td>Yes</td>\n",
              "      <td>No</td>\n",
              "      <td>53.45</td>\n",
              "      <td>119.5</td>\n",
              "      <td>No</td>\n",
              "    </tr>\n",
              "  </tbody>\n",
              "</table>\n",
              "</div>"
            ],
            "text/plain": [
              "   gender  tenure PhoneService InternetService     DeviceProtection  \\\n",
              "0    Male      72          Yes              No  No internet service   \n",
              "1  Female      44          Yes     Fiber optic                  Yes   \n",
              "2  Female      38          Yes     Fiber optic                   No   \n",
              "3    Male       4          Yes             DSL                   No   \n",
              "4    Male       2          Yes             DSL                  Yes   \n",
              "\n",
              "           TechSupport  MonthlyCharges TotalCharges Churn  \n",
              "0  No internet service           24.10      1734.65    No  \n",
              "1                   No           88.15       3973.2    No  \n",
              "2                   No           74.95      2869.85   Yes  \n",
              "3                   No           55.90        238.5    No  \n",
              "4                   No           53.45        119.5    No  "
            ]
          },
          "metadata": {
            "tags": []
          },
          "execution_count": 8
        }
      ]
    },
    {
      "cell_type": "code",
      "metadata": {
        "id": "qVOlTandGZT1",
        "outputId": "a4bb6241-e11b-45f7-f710-c9023db7313a"
      },
      "source": [
        "# Basic information\n",
        "selected_data.info()"
      ],
      "execution_count": null,
      "outputs": [
        {
          "output_type": "stream",
          "text": [
            "<class 'pandas.core.frame.DataFrame'>\n",
            "RangeIndex: 5986 entries, 0 to 5985\n",
            "Data columns (total 9 columns):\n",
            " #   Column            Non-Null Count  Dtype  \n",
            "---  ------            --------------  -----  \n",
            " 0   gender            5986 non-null   object \n",
            " 1   tenure            5986 non-null   int64  \n",
            " 2   PhoneService      5986 non-null   object \n",
            " 3   InternetService   5986 non-null   object \n",
            " 4   DeviceProtection  5986 non-null   object \n",
            " 5   TechSupport       5986 non-null   object \n",
            " 6   MonthlyCharges    5986 non-null   float64\n",
            " 7   TotalCharges      5986 non-null   object \n",
            " 8   Churn             5986 non-null   object \n",
            "dtypes: float64(1), int64(1), object(7)\n",
            "memory usage: 421.0+ KB\n"
          ],
          "name": "stdout"
        }
      ]
    },
    {
      "cell_type": "code",
      "metadata": {
        "id": "ChvMNh2BGZT1",
        "outputId": "4c9211a3-37ab-4148-862d-a73a37b9f424"
      },
      "source": [
        "# Observe that TotalCharges have blank values\n",
        "print('Before removing blank values')\n",
        "print(selected_data[selected_data['TotalCharges'] == ' '].index)\n",
        "selected_data['TotalCharges'] = selected_data['TotalCharges'].replace(r'^\\s*$', 0, regex=True)\n",
        "print('After removing blank values')\n",
        "print(selected_data[selected_data['TotalCharges'] == ' '].index)\n",
        "selected_data['TotalCharges'] = selected_data['TotalCharges'].astype(float)"
      ],
      "execution_count": null,
      "outputs": [
        {
          "output_type": "stream",
          "text": [
            "Before removing blank values\n",
            "Int64Index([356, 634, 2771, 3086, 3255, 4326, 5375, 5382, 5695, 5951], dtype='int64')\n",
            "After removing blank values\n",
            "Int64Index([], dtype='int64')\n"
          ],
          "name": "stdout"
        }
      ]
    },
    {
      "cell_type": "markdown",
      "metadata": {
        "id": "390dqjiTGZT2"
      },
      "source": [
        "### Encode Data (String -> Numeric)"
      ]
    },
    {
      "cell_type": "markdown",
      "metadata": {
        "id": "Hqnwbqx6GZT2"
      },
      "source": [
        "#### Target Column"
      ]
    },
    {
      "cell_type": "code",
      "metadata": {
        "id": "Sr4ax6FVGZT2",
        "outputId": "7c342ed8-e64a-4ac1-e1bb-1d8e51462e33"
      },
      "source": [
        "# Encode target column\n",
        "# First let's see unique values in the target column\n",
        "print('Before encoding:', selected_data['Churn'].unique())\n",
        "# Encode target columns: Assign `Yes` to 1 and `No` to 0\n",
        "selected_data[\"Churn\"] = np.where(selected_data[\"Churn\"].str.contains(\"Yes\"), 1, 0)\n",
        "print('After encoding:', selected_data['Churn'].unique())"
      ],
      "execution_count": null,
      "outputs": [
        {
          "output_type": "stream",
          "text": [
            "Before encoding: ['No' 'Yes']\n",
            "After encoding: [0 1]\n"
          ],
          "name": "stdout"
        }
      ]
    },
    {
      "cell_type": "markdown",
      "metadata": {
        "id": "5kPzZT6EGZT2"
      },
      "source": [
        "#### Bias Feature"
      ]
    },
    {
      "cell_type": "code",
      "metadata": {
        "id": "wtBW7IhEGZT3",
        "outputId": "3da47769-6b59-4e27-b482-7d6532612ab0"
      },
      "source": [
        "# We suspect bias to exist in the gender so let's encode the column seprately as we want them to have as one column\n",
        "# First let's see unique values in the target column\n",
        "print('Before encoding:', selected_data['gender'].unique())\n",
        "# Encode target columns: Assign `Male` to 1 and `Female` to 0\n",
        "selected_data[\"gender\"] = np.where(selected_data[\"gender\"].str.contains(\"Male\"), 1, 0)\n",
        "print('After encoding:', selected_data['gender'].unique())"
      ],
      "execution_count": null,
      "outputs": [
        {
          "output_type": "stream",
          "text": [
            "Before encoding: ['Male' 'Female']\n",
            "After encoding: [1 0]\n"
          ],
          "name": "stdout"
        }
      ]
    },
    {
      "cell_type": "markdown",
      "metadata": {
        "id": "Pf-glgdCGZT3"
      },
      "source": [
        "#### Categorical Column"
      ]
    },
    {
      "cell_type": "markdown",
      "metadata": {
        "id": "huqsraimGZT3"
      },
      "source": [
        "![img1](https://github.com/SSaishruthi/Guvi_AI_For_India/blob/main/encoding.png?raw=1)"
      ]
    },
    {
      "cell_type": "code",
      "metadata": {
        "id": "cbNxeFkMGZT3",
        "outputId": "c73ab1d4-13fa-4741-dea0-770cc6a24c42"
      },
      "source": [
        "# Display unique values in categorical columns\n",
        "for i in cat:\n",
        "    print(selected_data[i].unique())"
      ],
      "execution_count": null,
      "outputs": [
        {
          "output_type": "stream",
          "text": [
            "['Yes' 'No']\n",
            "['No' 'Fiber optic' 'DSL']\n",
            "['No internet service' 'Yes' 'No']\n",
            "['No internet service' 'No' 'Yes']\n"
          ],
          "name": "stdout"
        }
      ]
    },
    {
      "cell_type": "code",
      "metadata": {
        "id": "O4WoxX3RGZT4"
      },
      "source": [
        "# Encode other categorical column - Using one-hot encoding\n",
        "dum = pd.get_dummies(selected_data[cat].astype('category'),prefix_sep='=')"
      ],
      "execution_count": null,
      "outputs": []
    },
    {
      "cell_type": "code",
      "metadata": {
        "id": "l-FNRPSKGZT4",
        "outputId": "6785b96f-bcb8-4cb8-b9e9-30efdc3040ba"
      },
      "source": [
        "dum.head(2)"
      ],
      "execution_count": null,
      "outputs": [
        {
          "output_type": "execute_result",
          "data": {
            "text/html": [
              "<div>\n",
              "<style scoped>\n",
              "    .dataframe tbody tr th:only-of-type {\n",
              "        vertical-align: middle;\n",
              "    }\n",
              "\n",
              "    .dataframe tbody tr th {\n",
              "        vertical-align: top;\n",
              "    }\n",
              "\n",
              "    .dataframe thead th {\n",
              "        text-align: right;\n",
              "    }\n",
              "</style>\n",
              "<table border=\"1\" class=\"dataframe\">\n",
              "  <thead>\n",
              "    <tr style=\"text-align: right;\">\n",
              "      <th></th>\n",
              "      <th>PhoneService=No</th>\n",
              "      <th>PhoneService=Yes</th>\n",
              "      <th>InternetService=DSL</th>\n",
              "      <th>InternetService=Fiber optic</th>\n",
              "      <th>InternetService=No</th>\n",
              "      <th>DeviceProtection=No</th>\n",
              "      <th>DeviceProtection=No internet service</th>\n",
              "      <th>DeviceProtection=Yes</th>\n",
              "      <th>TechSupport=No</th>\n",
              "      <th>TechSupport=No internet service</th>\n",
              "      <th>TechSupport=Yes</th>\n",
              "    </tr>\n",
              "  </thead>\n",
              "  <tbody>\n",
              "    <tr>\n",
              "      <th>0</th>\n",
              "      <td>0</td>\n",
              "      <td>1</td>\n",
              "      <td>0</td>\n",
              "      <td>0</td>\n",
              "      <td>1</td>\n",
              "      <td>0</td>\n",
              "      <td>1</td>\n",
              "      <td>0</td>\n",
              "      <td>0</td>\n",
              "      <td>1</td>\n",
              "      <td>0</td>\n",
              "    </tr>\n",
              "    <tr>\n",
              "      <th>1</th>\n",
              "      <td>0</td>\n",
              "      <td>1</td>\n",
              "      <td>0</td>\n",
              "      <td>1</td>\n",
              "      <td>0</td>\n",
              "      <td>0</td>\n",
              "      <td>0</td>\n",
              "      <td>1</td>\n",
              "      <td>1</td>\n",
              "      <td>0</td>\n",
              "      <td>0</td>\n",
              "    </tr>\n",
              "  </tbody>\n",
              "</table>\n",
              "</div>"
            ],
            "text/plain": [
              "   PhoneService=No  PhoneService=Yes  InternetService=DSL  \\\n",
              "0                0                 1                    0   \n",
              "1                0                 1                    0   \n",
              "\n",
              "   InternetService=Fiber optic  InternetService=No  DeviceProtection=No  \\\n",
              "0                            0                   1                    0   \n",
              "1                            1                   0                    0   \n",
              "\n",
              "   DeviceProtection=No internet service  DeviceProtection=Yes  TechSupport=No  \\\n",
              "0                                     1                     0               0   \n",
              "1                                     0                     1               1   \n",
              "\n",
              "   TechSupport=No internet service  TechSupport=Yes  \n",
              "0                                1                0  \n",
              "1                                0                0  "
            ]
          },
          "metadata": {
            "tags": []
          },
          "execution_count": 15
        }
      ]
    },
    {
      "cell_type": "markdown",
      "metadata": {
        "id": "O-DQ8FscGZT4"
      },
      "source": [
        "#### Get Processed Dataset\n",
        "\n",
        "Combine encoded data with continous variable, gender (expected bias), and target variable)"
      ]
    },
    {
      "cell_type": "code",
      "metadata": {
        "id": "xOD9euC9GZT4"
      },
      "source": [
        "encoded_df = pd.concat([dum, selected_data[continous], selected_data[expected_bias], selected_data[target]], axis=1)"
      ],
      "execution_count": null,
      "outputs": []
    },
    {
      "cell_type": "code",
      "metadata": {
        "id": "PeqrrM21GZT5",
        "outputId": "c3f0352d-2c84-40b3-e7cc-ff15dccb1c5f"
      },
      "source": [
        "encoded_df.columns"
      ],
      "execution_count": null,
      "outputs": [
        {
          "output_type": "execute_result",
          "data": {
            "text/plain": [
              "Index(['PhoneService=No', 'PhoneService=Yes', 'InternetService=DSL',\n",
              "       'InternetService=Fiber optic', 'InternetService=No',\n",
              "       'DeviceProtection=No', 'DeviceProtection=No internet service',\n",
              "       'DeviceProtection=Yes', 'TechSupport=No',\n",
              "       'TechSupport=No internet service', 'TechSupport=Yes', 'tenure',\n",
              "       'MonthlyCharges', 'TotalCharges', 'gender', 'Churn'],\n",
              "      dtype='object')"
            ]
          },
          "metadata": {
            "tags": []
          },
          "execution_count": 17
        }
      ]
    },
    {
      "cell_type": "code",
      "metadata": {
        "id": "ATijl1NlGZT5",
        "outputId": "9a172a49-4f71-40f8-c916-8665786be1bb"
      },
      "source": [
        "encoded_df.head()"
      ],
      "execution_count": null,
      "outputs": [
        {
          "output_type": "execute_result",
          "data": {
            "text/html": [
              "<div>\n",
              "<style scoped>\n",
              "    .dataframe tbody tr th:only-of-type {\n",
              "        vertical-align: middle;\n",
              "    }\n",
              "\n",
              "    .dataframe tbody tr th {\n",
              "        vertical-align: top;\n",
              "    }\n",
              "\n",
              "    .dataframe thead th {\n",
              "        text-align: right;\n",
              "    }\n",
              "</style>\n",
              "<table border=\"1\" class=\"dataframe\">\n",
              "  <thead>\n",
              "    <tr style=\"text-align: right;\">\n",
              "      <th></th>\n",
              "      <th>PhoneService=No</th>\n",
              "      <th>PhoneService=Yes</th>\n",
              "      <th>InternetService=DSL</th>\n",
              "      <th>InternetService=Fiber optic</th>\n",
              "      <th>InternetService=No</th>\n",
              "      <th>DeviceProtection=No</th>\n",
              "      <th>DeviceProtection=No internet service</th>\n",
              "      <th>DeviceProtection=Yes</th>\n",
              "      <th>TechSupport=No</th>\n",
              "      <th>TechSupport=No internet service</th>\n",
              "      <th>TechSupport=Yes</th>\n",
              "      <th>tenure</th>\n",
              "      <th>MonthlyCharges</th>\n",
              "      <th>TotalCharges</th>\n",
              "      <th>gender</th>\n",
              "      <th>Churn</th>\n",
              "    </tr>\n",
              "  </thead>\n",
              "  <tbody>\n",
              "    <tr>\n",
              "      <th>0</th>\n",
              "      <td>0</td>\n",
              "      <td>1</td>\n",
              "      <td>0</td>\n",
              "      <td>0</td>\n",
              "      <td>1</td>\n",
              "      <td>0</td>\n",
              "      <td>1</td>\n",
              "      <td>0</td>\n",
              "      <td>0</td>\n",
              "      <td>1</td>\n",
              "      <td>0</td>\n",
              "      <td>72</td>\n",
              "      <td>24.10</td>\n",
              "      <td>1734.65</td>\n",
              "      <td>1</td>\n",
              "      <td>0</td>\n",
              "    </tr>\n",
              "    <tr>\n",
              "      <th>1</th>\n",
              "      <td>0</td>\n",
              "      <td>1</td>\n",
              "      <td>0</td>\n",
              "      <td>1</td>\n",
              "      <td>0</td>\n",
              "      <td>0</td>\n",
              "      <td>0</td>\n",
              "      <td>1</td>\n",
              "      <td>1</td>\n",
              "      <td>0</td>\n",
              "      <td>0</td>\n",
              "      <td>44</td>\n",
              "      <td>88.15</td>\n",
              "      <td>3973.20</td>\n",
              "      <td>0</td>\n",
              "      <td>0</td>\n",
              "    </tr>\n",
              "    <tr>\n",
              "      <th>2</th>\n",
              "      <td>0</td>\n",
              "      <td>1</td>\n",
              "      <td>0</td>\n",
              "      <td>1</td>\n",
              "      <td>0</td>\n",
              "      <td>1</td>\n",
              "      <td>0</td>\n",
              "      <td>0</td>\n",
              "      <td>1</td>\n",
              "      <td>0</td>\n",
              "      <td>0</td>\n",
              "      <td>38</td>\n",
              "      <td>74.95</td>\n",
              "      <td>2869.85</td>\n",
              "      <td>0</td>\n",
              "      <td>1</td>\n",
              "    </tr>\n",
              "    <tr>\n",
              "      <th>3</th>\n",
              "      <td>0</td>\n",
              "      <td>1</td>\n",
              "      <td>1</td>\n",
              "      <td>0</td>\n",
              "      <td>0</td>\n",
              "      <td>1</td>\n",
              "      <td>0</td>\n",
              "      <td>0</td>\n",
              "      <td>1</td>\n",
              "      <td>0</td>\n",
              "      <td>0</td>\n",
              "      <td>4</td>\n",
              "      <td>55.90</td>\n",
              "      <td>238.50</td>\n",
              "      <td>1</td>\n",
              "      <td>0</td>\n",
              "    </tr>\n",
              "    <tr>\n",
              "      <th>4</th>\n",
              "      <td>0</td>\n",
              "      <td>1</td>\n",
              "      <td>1</td>\n",
              "      <td>0</td>\n",
              "      <td>0</td>\n",
              "      <td>0</td>\n",
              "      <td>0</td>\n",
              "      <td>1</td>\n",
              "      <td>1</td>\n",
              "      <td>0</td>\n",
              "      <td>0</td>\n",
              "      <td>2</td>\n",
              "      <td>53.45</td>\n",
              "      <td>119.50</td>\n",
              "      <td>1</td>\n",
              "      <td>0</td>\n",
              "    </tr>\n",
              "  </tbody>\n",
              "</table>\n",
              "</div>"
            ],
            "text/plain": [
              "   PhoneService=No  PhoneService=Yes  InternetService=DSL  \\\n",
              "0                0                 1                    0   \n",
              "1                0                 1                    0   \n",
              "2                0                 1                    0   \n",
              "3                0                 1                    1   \n",
              "4                0                 1                    1   \n",
              "\n",
              "   InternetService=Fiber optic  InternetService=No  DeviceProtection=No  \\\n",
              "0                            0                   1                    0   \n",
              "1                            1                   0                    0   \n",
              "2                            1                   0                    1   \n",
              "3                            0                   0                    1   \n",
              "4                            0                   0                    0   \n",
              "\n",
              "   DeviceProtection=No internet service  DeviceProtection=Yes  TechSupport=No  \\\n",
              "0                                     1                     0               0   \n",
              "1                                     0                     1               1   \n",
              "2                                     0                     0               1   \n",
              "3                                     0                     0               1   \n",
              "4                                     0                     1               1   \n",
              "\n",
              "   TechSupport=No internet service  TechSupport=Yes  tenure  MonthlyCharges  \\\n",
              "0                                1                0      72           24.10   \n",
              "1                                0                0      44           88.15   \n",
              "2                                0                0      38           74.95   \n",
              "3                                0                0       4           55.90   \n",
              "4                                0                0       2           53.45   \n",
              "\n",
              "   TotalCharges  gender  Churn  \n",
              "0       1734.65       1      0  \n",
              "1       3973.20       0      0  \n",
              "2       2869.85       0      1  \n",
              "3        238.50       1      0  \n",
              "4        119.50       1      0  "
            ]
          },
          "metadata": {
            "tags": []
          },
          "execution_count": 18
        }
      ]
    },
    {
      "cell_type": "markdown",
      "metadata": {
        "id": "dfCoDs9PGZT5"
      },
      "source": [
        "# Model Development - Without Bias Analysis"
      ]
    },
    {
      "cell_type": "code",
      "metadata": {
        "id": "wU5o1qYUGZT6",
        "outputId": "f24d74c5-491d-4707-ecdf-37e8d1714071"
      },
      "source": [
        "# Check if the dataset is balanced\n",
        "encoded_df['Churn'].value_counts()"
      ],
      "execution_count": null,
      "outputs": [
        {
          "output_type": "execute_result",
          "data": {
            "text/plain": [
              "0    4399\n",
              "1    1587\n",
              "Name: Churn, dtype: int64"
            ]
          },
          "metadata": {
            "tags": []
          },
          "execution_count": 19
        }
      ]
    },
    {
      "cell_type": "markdown",
      "metadata": {
        "id": "Uf2_KEidGZT6"
      },
      "source": [
        "#### How to deal with data imbalance?\n",
        "\n",
        "- https://www.analyticsvidhya.com/blog/2017/03/imbalanced-data-classification/\n",
        "- https://machinelearningmastery.com/tactics-to-combat-imbalanced-classes-in-your-machine-learning-dataset/\n",
        "\n",
        "Here, we are using adaptive boosting technique in this example to deal with data imbalance.\n",
        "\n",
        "#### An AdaBoost classifier.\n",
        "\n",
        "Ada Boost is the first original boosting technique which creates a highly accurate prediction rule by combining many weak and inaccurate rules.  Each classifier is serially trained with the goal of correctly classifying examples in every round that were incorrectly classified in the previous round."
      ]
    },
    {
      "cell_type": "code",
      "metadata": {
        "id": "5aQJR8QiGZT6",
        "outputId": "d59cb018-1657-4493-9401-8be1e0b749fa"
      },
      "source": [
        "# Get only features\n",
        "feature_df = encoded_df.drop(['Churn'], axis=1)\n",
        "# Extract target column \n",
        "target_df = encoded_df[['Churn']]\n",
        "# Split dataset into train and test (Best Practise is to split into train, validation, and test)\n",
        "x_train,x_test,y_train,y_test = train_test_split(feature_df, target_df, test_size=0.2, random_state = 0)\n",
        "# Initialize adaboost classifier\n",
        "cls = AdaBoostClassifier(n_estimators=100)\n",
        "# Fit the model\n",
        "cls.fit(x_train, y_train)\n",
        "# Predict and calculate metrics\n",
        "print(\"Accuracy:\", metrics.accuracy_score(y_test, cls.predict(x_test)))"
      ],
      "execution_count": null,
      "outputs": [
        {
          "output_type": "stream",
          "text": [
            "Accuracy: 0.7821368948247078\n"
          ],
          "name": "stdout"
        }
      ]
    },
    {
      "cell_type": "markdown",
      "metadata": {
        "id": "LMbtyb34GZT7"
      },
      "source": [
        "# Model Development - With Bias Analysis using AI Fairness 360"
      ]
    },
    {
      "cell_type": "markdown",
      "metadata": {
        "id": "olEfOqBKGZT7"
      },
      "source": [
        "![img](https://github.com/SSaishruthi/Guvi_AI_For_India/blob/main/aif.png?raw=1)"
      ]
    },
    {
      "cell_type": "markdown",
      "metadata": {
        "id": "K5GryBR9GZT7"
      },
      "source": [
        "#### Terms:\n",
        "    \n",
        "##### Bias\n",
        "The bias is an error from erroneous assumptions in the learning algorithm.\n",
        "\n",
        "##### Protected attribute\n",
        "Attribute that partition population in groups.\n",
        "\n",
        "##### Privileged protected attribute\n",
        "Value of the protected attribute indicating a group that has historically been at systematic advantage.\n",
        "\n",
        "##### Unwanted Bias\n",
        "Places privileged groups at a systematic advantage and unprivileged groups at a systematic disadvantage.\n",
        "\n",
        "##### Favorable Label & Unfavourable Label\n",
        "A label whose value corresponds to an outcome that provides an advantage to the recipient. The opposite is an unfavorable lable."
      ]
    },
    {
      "cell_type": "code",
      "metadata": {
        "id": "bmCHmZn_GZT7"
      },
      "source": [
        "privileged_groups = [{'gender': 1}]\n",
        "unprivileged_groups = [{'gender': 0}]\n",
        "favorable_label=0\n",
        "unfavorable_label=1"
      ],
      "execution_count": null,
      "outputs": []
    },
    {
      "cell_type": "markdown",
      "metadata": {
        "id": "ruW27VNNGZT8"
      },
      "source": [
        "#### Covert into AIF360 compatible dataset"
      ]
    },
    {
      "cell_type": "code",
      "metadata": {
        "id": "4JoswUEMGZT8"
      },
      "source": [
        "# Covert into AIF360 compatible dataset\n",
        "aif360_dataset = aif360.datasets.BinaryLabelDataset(\n",
        "    favorable_label=favorable_label,\n",
        "    unfavorable_label=unfavorable_label,\n",
        "    df=encoded_df,\n",
        "    label_names=['Churn'],\n",
        "    protected_attribute_names=['gender'])"
      ],
      "execution_count": null,
      "outputs": []
    },
    {
      "cell_type": "code",
      "metadata": {
        "id": "B7ruxbwnGZT8",
        "outputId": "0a121df6-79fb-4e0a-d4c8-5fa6baba307b"
      },
      "source": [
        "aif360_dataset.label_names"
      ],
      "execution_count": null,
      "outputs": [
        {
          "output_type": "execute_result",
          "data": {
            "text/plain": [
              "['Churn']"
            ]
          },
          "metadata": {
            "tags": []
          },
          "execution_count": 23
        }
      ]
    },
    {
      "cell_type": "code",
      "metadata": {
        "id": "o79XtC3tGZT8",
        "outputId": "73952660-3237-4544-d0e4-c0d715fc1930"
      },
      "source": [
        "aif360_dataset.feature_names"
      ],
      "execution_count": null,
      "outputs": [
        {
          "output_type": "execute_result",
          "data": {
            "text/plain": [
              "['PhoneService=No',\n",
              " 'PhoneService=Yes',\n",
              " 'InternetService=DSL',\n",
              " 'InternetService=Fiber optic',\n",
              " 'InternetService=No',\n",
              " 'DeviceProtection=No',\n",
              " 'DeviceProtection=No internet service',\n",
              " 'DeviceProtection=Yes',\n",
              " 'TechSupport=No',\n",
              " 'TechSupport=No internet service',\n",
              " 'TechSupport=Yes',\n",
              " 'tenure',\n",
              " 'MonthlyCharges',\n",
              " 'TotalCharges',\n",
              " 'gender']"
            ]
          },
          "metadata": {
            "tags": []
          },
          "execution_count": 24
        }
      ]
    },
    {
      "cell_type": "code",
      "metadata": {
        "id": "f7tP50u4GZT8"
      },
      "source": [
        "#  Get the dataset and split into train and test\n",
        "aif360_train, aif360_test = aif360_dataset.split([0.7])"
      ],
      "execution_count": null,
      "outputs": []
    },
    {
      "cell_type": "markdown",
      "metadata": {
        "id": "UGaqbwN1GZT9"
      },
      "source": [
        "#### Check for bias"
      ]
    },
    {
      "cell_type": "markdown",
      "metadata": {
        "id": "-enW8_y5GZT9"
      },
      "source": [
        "##### statistical parity difference\n",
        "\n",
        "This measure is based on the following formula :\n",
        "\n",
        "Pr(Y=1|D=unprivileged)−Pr(Y=1|D=privileged)\n",
        " \n",
        "Here the bias or statistical imparity is the difference between the probability that a random individual drawn from unprivileged is labeled 1 (so here that he has more than 50K for income) and the probability that a random individual from privileged is labeled 1.\n",
        "\n",
        "So it has to be close to 0 so it will be fair."
      ]
    },
    {
      "cell_type": "code",
      "metadata": {
        "id": "KEfcPgU1GZT9",
        "outputId": "0170896d-3fe6-4504-b01e-398ebad54965"
      },
      "source": [
        "# Metric for the original dataset\n",
        "metric_orig_train = BinaryLabelDatasetMetric(aif360_train, \n",
        "                                             unprivileged_groups=unprivileged_groups,\n",
        "                                             privileged_groups=privileged_groups)\n",
        "print(\"Original training dataset\")\n",
        "print(\"Difference in mean outcomes between unprivileged and privileged groups = %f\" % metric_orig_train.statistical_parity_difference())"
      ],
      "execution_count": null,
      "outputs": [
        {
          "output_type": "stream",
          "text": [
            "Original training dataset\n",
            "Difference in mean outcomes between unprivileged and privileged groups = -0.004643\n"
          ],
          "name": "stdout"
        }
      ]
    },
    {
      "cell_type": "markdown",
      "metadata": {
        "id": "Dz6LGwZrGZT9"
      },
      "source": [
        "##### Reweighing\n",
        "\n",
        "Reweighing is a preprocessing technique that Weights the examples in each (group, label) combination differently to ensure fairness before classification."
      ]
    },
    {
      "cell_type": "code",
      "metadata": {
        "id": "WS3EIoV1GZT-"
      },
      "source": [
        "RW = Reweighing(unprivileged_groups=unprivileged_groups,\n",
        "               privileged_groups=privileged_groups)\n",
        "RW.fit(aif360_train)\n",
        "transf_dataset = RW.transform(aif360_train)"
      ],
      "execution_count": null,
      "outputs": []
    },
    {
      "cell_type": "code",
      "metadata": {
        "id": "F_jc2H9zGZT-",
        "outputId": "c7ead62f-cee0-4c4b-a70c-ddfabbab73c1"
      },
      "source": [
        "# Metric for the original dataset\n",
        "metric_transf_train = BinaryLabelDatasetMetric(transf_dataset, \n",
        "                                             unprivileged_groups=unprivileged_groups,\n",
        "                                             privileged_groups=privileged_groups)\n",
        "print('Modified training dataset')\n",
        "print(\"Difference in mean outcomes between unprivileged and privileged groups = %f\" % metric_transf_train.statistical_parity_difference())"
      ],
      "execution_count": null,
      "outputs": [
        {
          "output_type": "stream",
          "text": [
            "Modified training dataset\n",
            "Difference in mean outcomes between unprivileged and privileged groups = 0.000000\n"
          ],
          "name": "stdout"
        }
      ]
    },
    {
      "cell_type": "markdown",
      "metadata": {
        "id": "vJP_ye_PGZT-"
      },
      "source": [
        "#### Model Development"
      ]
    },
    {
      "cell_type": "code",
      "metadata": {
        "id": "NUKOQ6paGZT-",
        "outputId": "9f8f854b-d4be-4cb9-daca-2574e458340e"
      },
      "source": [
        "#n_estimators is the maximum number of estimators at which the boosting is terminated. Default is 50 and this can be tuned as well.\n",
        "cls = AdaBoostClassifier(n_estimators=100)\n",
        "cls.fit(transf_dataset.features, transf_dataset.labels,sample_weight=transf_dataset.instance_weights)"
      ],
      "execution_count": null,
      "outputs": [
        {
          "output_type": "execute_result",
          "data": {
            "text/plain": [
              "AdaBoostClassifier(algorithm='SAMME.R', base_estimator=None, learning_rate=1.0,\n",
              "                   n_estimators=100, random_state=None)"
            ]
          },
          "metadata": {
            "tags": []
          },
          "execution_count": 29
        }
      ]
    },
    {
      "cell_type": "code",
      "metadata": {
        "id": "SWwAVcP0GZT_",
        "outputId": "f5925735-2ed4-4bd0-cad5-f2186486ad7b"
      },
      "source": [
        "print(\"Accuracy:\", metrics.accuracy_score(aif360_test.labels, cls.predict(aif360_test.features)))"
      ],
      "execution_count": null,
      "outputs": [
        {
          "output_type": "stream",
          "text": [
            "Accuracy: 0.7873051224944321\n"
          ],
          "name": "stdout"
        }
      ]
    },
    {
      "cell_type": "code",
      "metadata": {
        "id": "kZADp1PjGZT_"
      },
      "source": [
        ""
      ],
      "execution_count": null,
      "outputs": []
    }
  ]
}